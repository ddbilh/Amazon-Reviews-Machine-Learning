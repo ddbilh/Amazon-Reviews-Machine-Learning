{
  "nbformat": 4,
  "nbformat_minor": 0,
  "metadata": {
    "colab": {
      "name": "Brown, Dominique Project (code)",
      "provenance": [],
      "collapsed_sections": []
    },
    "kernelspec": {
      "name": "python3",
      "display_name": "Python 3"
    }
  },
  "cells": [
    {
      "cell_type": "code",
      "metadata": {
        "id": "ItqEJW2zc9Yw",
        "colab_type": "code",
        "outputId": "c58fcdc7-d574-473a-bb7e-c8cf20a3fc7d",
        "colab": {
          "base_uri": "https://localhost:8080/",
          "height": 114
        }
      },
      "source": [
        "!curl http://deepyeti.ucsd.edu/jianmo/amazon/categoryFilesSmall/Cell_Phones_and_Accessories_5.json.gz -o reviews.json.gz\n",
        "!gunzip reviews.json.gz\n",
        "!ls"
      ],
      "execution_count": 0,
      "outputs": [
        {
          "output_type": "stream",
          "text": [
            "  % Total    % Received % Xferd  Average Speed   Time    Time     Time  Current\n",
            "                                 Dload  Upload   Total   Spent    Left  Speed\n",
            "100  161M  100  161M    0     0  10.3M      0  0:00:15  0:00:15 --:--:-- 10.7M\n",
            "reviews.json  sample_data\n"
          ],
          "name": "stdout"
        }
      ]
    },
    {
      "cell_type": "code",
      "metadata": {
        "id": "GsO3uTOGeO6S",
        "colab_type": "code",
        "colab": {}
      },
      "source": [
        "import pandas as pd\n"
      ],
      "execution_count": 0,
      "outputs": []
    },
    {
      "cell_type": "code",
      "metadata": {
        "id": "hwoGIgUueWYv",
        "colab_type": "code",
        "colab": {}
      },
      "source": [
        "df=pd.read_json('reviews.json', lines=True)"
      ],
      "execution_count": 0,
      "outputs": []
    },
    {
      "cell_type": "code",
      "metadata": {
        "id": "Cb23k91ypajV",
        "colab_type": "code",
        "outputId": "486da8f9-842f-4736-9568-e461e2fadee2",
        "colab": {
          "base_uri": "https://localhost:8080/",
          "height": 289
        }
      },
      "source": [
        "df.head()"
      ],
      "execution_count": 0,
      "outputs": [
        {
          "output_type": "execute_result",
          "data": {
            "text/html": [
              "<div>\n",
              "<style scoped>\n",
              "    .dataframe tbody tr th:only-of-type {\n",
              "        vertical-align: middle;\n",
              "    }\n",
              "\n",
              "    .dataframe tbody tr th {\n",
              "        vertical-align: top;\n",
              "    }\n",
              "\n",
              "    .dataframe thead th {\n",
              "        text-align: right;\n",
              "    }\n",
              "</style>\n",
              "<table border=\"1\" class=\"dataframe\">\n",
              "  <thead>\n",
              "    <tr style=\"text-align: right;\">\n",
              "      <th></th>\n",
              "      <th>overall</th>\n",
              "      <th>verified</th>\n",
              "      <th>reviewTime</th>\n",
              "      <th>reviewerID</th>\n",
              "      <th>asin</th>\n",
              "      <th>style</th>\n",
              "      <th>reviewerName</th>\n",
              "      <th>reviewText</th>\n",
              "      <th>summary</th>\n",
              "      <th>unixReviewTime</th>\n",
              "      <th>vote</th>\n",
              "      <th>image</th>\n",
              "    </tr>\n",
              "  </thead>\n",
              "  <tbody>\n",
              "    <tr>\n",
              "      <th>0</th>\n",
              "      <td>5</td>\n",
              "      <td>True</td>\n",
              "      <td>08 4, 2014</td>\n",
              "      <td>A24E3SXTC62LJI</td>\n",
              "      <td>7508492919</td>\n",
              "      <td>{'Color:': ' Bling'}</td>\n",
              "      <td>Claudia Valdivia</td>\n",
              "      <td>Looks even better in person. Be careful to not...</td>\n",
              "      <td>Can't stop won't stop looking at it</td>\n",
              "      <td>1407110400</td>\n",
              "      <td>NaN</td>\n",
              "      <td>NaN</td>\n",
              "    </tr>\n",
              "    <tr>\n",
              "      <th>1</th>\n",
              "      <td>5</td>\n",
              "      <td>True</td>\n",
              "      <td>02 12, 2014</td>\n",
              "      <td>A269FLZCB4GIPV</td>\n",
              "      <td>7508492919</td>\n",
              "      <td>NaN</td>\n",
              "      <td>sarah ponce</td>\n",
              "      <td>When you don't want to spend a whole lot of ca...</td>\n",
              "      <td>1</td>\n",
              "      <td>1392163200</td>\n",
              "      <td>NaN</td>\n",
              "      <td>NaN</td>\n",
              "    </tr>\n",
              "    <tr>\n",
              "      <th>2</th>\n",
              "      <td>3</td>\n",
              "      <td>True</td>\n",
              "      <td>02 8, 2014</td>\n",
              "      <td>AB6CHQWHZW4TV</td>\n",
              "      <td>7508492919</td>\n",
              "      <td>NaN</td>\n",
              "      <td>Kai</td>\n",
              "      <td>so the case came on time, i love the design. I...</td>\n",
              "      <td>Its okay</td>\n",
              "      <td>1391817600</td>\n",
              "      <td>NaN</td>\n",
              "      <td>NaN</td>\n",
              "    </tr>\n",
              "    <tr>\n",
              "      <th>3</th>\n",
              "      <td>2</td>\n",
              "      <td>True</td>\n",
              "      <td>02 4, 2014</td>\n",
              "      <td>A1M117A53LEI8</td>\n",
              "      <td>7508492919</td>\n",
              "      <td>NaN</td>\n",
              "      <td>Sharon Williams</td>\n",
              "      <td>DON'T CARE FOR IT.  GAVE IT AS A GIFT AND THEY...</td>\n",
              "      <td>CASE</td>\n",
              "      <td>1391472000</td>\n",
              "      <td>NaN</td>\n",
              "      <td>NaN</td>\n",
              "    </tr>\n",
              "    <tr>\n",
              "      <th>4</th>\n",
              "      <td>4</td>\n",
              "      <td>True</td>\n",
              "      <td>02 3, 2014</td>\n",
              "      <td>A272DUT8M88ZS8</td>\n",
              "      <td>7508492919</td>\n",
              "      <td>NaN</td>\n",
              "      <td>Bella Rodriguez</td>\n",
              "      <td>I liked it because it was cute, but the studs ...</td>\n",
              "      <td>Cute!</td>\n",
              "      <td>1391385600</td>\n",
              "      <td>NaN</td>\n",
              "      <td>NaN</td>\n",
              "    </tr>\n",
              "  </tbody>\n",
              "</table>\n",
              "</div>"
            ],
            "text/plain": [
              "   overall  verified   reviewTime  ... unixReviewTime vote image\n",
              "0        5      True   08 4, 2014  ...     1407110400  NaN   NaN\n",
              "1        5      True  02 12, 2014  ...     1392163200  NaN   NaN\n",
              "2        3      True   02 8, 2014  ...     1391817600  NaN   NaN\n",
              "3        2      True   02 4, 2014  ...     1391472000  NaN   NaN\n",
              "4        4      True   02 3, 2014  ...     1391385600  NaN   NaN\n",
              "\n",
              "[5 rows x 12 columns]"
            ]
          },
          "metadata": {
            "tags": []
          },
          "execution_count": 4
        }
      ]
    },
    {
      "cell_type": "code",
      "metadata": {
        "id": "JgqGFltoptFi",
        "colab_type": "code",
        "outputId": "3487e568-1ef8-4f91-9ee0-af865ef0fd2f",
        "colab": {
          "base_uri": "https://localhost:8080/",
          "height": 297
        }
      },
      "source": [
        "df.describe()"
      ],
      "execution_count": 0,
      "outputs": [
        {
          "output_type": "execute_result",
          "data": {
            "text/html": [
              "<div>\n",
              "<style scoped>\n",
              "    .dataframe tbody tr th:only-of-type {\n",
              "        vertical-align: middle;\n",
              "    }\n",
              "\n",
              "    .dataframe tbody tr th {\n",
              "        vertical-align: top;\n",
              "    }\n",
              "\n",
              "    .dataframe thead th {\n",
              "        text-align: right;\n",
              "    }\n",
              "</style>\n",
              "<table border=\"1\" class=\"dataframe\">\n",
              "  <thead>\n",
              "    <tr style=\"text-align: right;\">\n",
              "      <th></th>\n",
              "      <th>overall</th>\n",
              "      <th>unixReviewTime</th>\n",
              "    </tr>\n",
              "  </thead>\n",
              "  <tbody>\n",
              "    <tr>\n",
              "      <th>count</th>\n",
              "      <td>1.128437e+06</td>\n",
              "      <td>1.128437e+06</td>\n",
              "    </tr>\n",
              "    <tr>\n",
              "      <th>mean</th>\n",
              "      <td>4.221383e+00</td>\n",
              "      <td>1.440400e+09</td>\n",
              "    </tr>\n",
              "    <tr>\n",
              "      <th>std</th>\n",
              "      <td>1.231917e+00</td>\n",
              "      <td>4.569215e+07</td>\n",
              "    </tr>\n",
              "    <tr>\n",
              "      <th>min</th>\n",
              "      <td>1.000000e+00</td>\n",
              "      <td>1.035331e+09</td>\n",
              "    </tr>\n",
              "    <tr>\n",
              "      <th>25%</th>\n",
              "      <td>4.000000e+00</td>\n",
              "      <td>1.416355e+09</td>\n",
              "    </tr>\n",
              "    <tr>\n",
              "      <th>50%</th>\n",
              "      <td>5.000000e+00</td>\n",
              "      <td>1.444349e+09</td>\n",
              "    </tr>\n",
              "    <tr>\n",
              "      <th>75%</th>\n",
              "      <td>5.000000e+00</td>\n",
              "      <td>1.470442e+09</td>\n",
              "    </tr>\n",
              "    <tr>\n",
              "      <th>max</th>\n",
              "      <td>5.000000e+00</td>\n",
              "      <td>1.538438e+09</td>\n",
              "    </tr>\n",
              "  </tbody>\n",
              "</table>\n",
              "</div>"
            ],
            "text/plain": [
              "            overall  unixReviewTime\n",
              "count  1.128437e+06    1.128437e+06\n",
              "mean   4.221383e+00    1.440400e+09\n",
              "std    1.231917e+00    4.569215e+07\n",
              "min    1.000000e+00    1.035331e+09\n",
              "25%    4.000000e+00    1.416355e+09\n",
              "50%    5.000000e+00    1.444349e+09\n",
              "75%    5.000000e+00    1.470442e+09\n",
              "max    5.000000e+00    1.538438e+09"
            ]
          },
          "metadata": {
            "tags": []
          },
          "execution_count": 5
        }
      ]
    },
    {
      "cell_type": "code",
      "metadata": {
        "id": "ip5bv_gIq1d-",
        "colab_type": "code",
        "colab": {}
      },
      "source": [
        "#drop extra columns\n",
        "df1=df.drop(columns=['vote', 'image','style'])"
      ],
      "execution_count": 0,
      "outputs": []
    },
    {
      "cell_type": "code",
      "metadata": {
        "id": "_-DCslOhrO_3",
        "colab_type": "code",
        "colab": {}
      },
      "source": [
        "#combine the two columns to make one\n",
        "df1[\"review\"] = df1[\"reviewText\"] + df1[\"summary\"]"
      ],
      "execution_count": 0,
      "outputs": []
    },
    {
      "cell_type": "code",
      "metadata": {
        "id": "6Y0GiIhRrale",
        "colab_type": "code",
        "colab": {}
      },
      "source": [
        "#drop repeated columns\n",
        "df2=df1.drop(columns=['reviewText', 'summary'])"
      ],
      "execution_count": 0,
      "outputs": []
    },
    {
      "cell_type": "code",
      "metadata": {
        "id": "bAdr-ADysA8a",
        "colab_type": "code",
        "outputId": "bdd24296-4969-4147-87ae-788e2ad56b86",
        "colab": {
          "base_uri": "https://localhost:8080/",
          "height": 204
        }
      },
      "source": [
        "df2.head()"
      ],
      "execution_count": 0,
      "outputs": [
        {
          "output_type": "execute_result",
          "data": {
            "text/html": [
              "<div>\n",
              "<style scoped>\n",
              "    .dataframe tbody tr th:only-of-type {\n",
              "        vertical-align: middle;\n",
              "    }\n",
              "\n",
              "    .dataframe tbody tr th {\n",
              "        vertical-align: top;\n",
              "    }\n",
              "\n",
              "    .dataframe thead th {\n",
              "        text-align: right;\n",
              "    }\n",
              "</style>\n",
              "<table border=\"1\" class=\"dataframe\">\n",
              "  <thead>\n",
              "    <tr style=\"text-align: right;\">\n",
              "      <th></th>\n",
              "      <th>overall</th>\n",
              "      <th>verified</th>\n",
              "      <th>reviewTime</th>\n",
              "      <th>reviewerID</th>\n",
              "      <th>asin</th>\n",
              "      <th>reviewerName</th>\n",
              "      <th>unixReviewTime</th>\n",
              "      <th>review</th>\n",
              "    </tr>\n",
              "  </thead>\n",
              "  <tbody>\n",
              "    <tr>\n",
              "      <th>0</th>\n",
              "      <td>5</td>\n",
              "      <td>True</td>\n",
              "      <td>08 4, 2014</td>\n",
              "      <td>A24E3SXTC62LJI</td>\n",
              "      <td>7508492919</td>\n",
              "      <td>Claudia Valdivia</td>\n",
              "      <td>1407110400</td>\n",
              "      <td>Looks even better in person. Be careful to not...</td>\n",
              "    </tr>\n",
              "    <tr>\n",
              "      <th>1</th>\n",
              "      <td>5</td>\n",
              "      <td>True</td>\n",
              "      <td>02 12, 2014</td>\n",
              "      <td>A269FLZCB4GIPV</td>\n",
              "      <td>7508492919</td>\n",
              "      <td>sarah ponce</td>\n",
              "      <td>1392163200</td>\n",
              "      <td>When you don't want to spend a whole lot of ca...</td>\n",
              "    </tr>\n",
              "    <tr>\n",
              "      <th>2</th>\n",
              "      <td>3</td>\n",
              "      <td>True</td>\n",
              "      <td>02 8, 2014</td>\n",
              "      <td>AB6CHQWHZW4TV</td>\n",
              "      <td>7508492919</td>\n",
              "      <td>Kai</td>\n",
              "      <td>1391817600</td>\n",
              "      <td>so the case came on time, i love the design. I...</td>\n",
              "    </tr>\n",
              "    <tr>\n",
              "      <th>3</th>\n",
              "      <td>2</td>\n",
              "      <td>True</td>\n",
              "      <td>02 4, 2014</td>\n",
              "      <td>A1M117A53LEI8</td>\n",
              "      <td>7508492919</td>\n",
              "      <td>Sharon Williams</td>\n",
              "      <td>1391472000</td>\n",
              "      <td>DON'T CARE FOR IT.  GAVE IT AS A GIFT AND THEY...</td>\n",
              "    </tr>\n",
              "    <tr>\n",
              "      <th>4</th>\n",
              "      <td>4</td>\n",
              "      <td>True</td>\n",
              "      <td>02 3, 2014</td>\n",
              "      <td>A272DUT8M88ZS8</td>\n",
              "      <td>7508492919</td>\n",
              "      <td>Bella Rodriguez</td>\n",
              "      <td>1391385600</td>\n",
              "      <td>I liked it because it was cute, but the studs ...</td>\n",
              "    </tr>\n",
              "  </tbody>\n",
              "</table>\n",
              "</div>"
            ],
            "text/plain": [
              "   overall  ...                                             review\n",
              "0        5  ...  Looks even better in person. Be careful to not...\n",
              "1        5  ...  When you don't want to spend a whole lot of ca...\n",
              "2        3  ...  so the case came on time, i love the design. I...\n",
              "3        2  ...  DON'T CARE FOR IT.  GAVE IT AS A GIFT AND THEY...\n",
              "4        4  ...  I liked it because it was cute, but the studs ...\n",
              "\n",
              "[5 rows x 8 columns]"
            ]
          },
          "metadata": {
            "tags": []
          },
          "execution_count": 9
        }
      ]
    },
    {
      "cell_type": "code",
      "metadata": {
        "id": "Qals4LQpsG96",
        "colab_type": "code",
        "outputId": "f7b2ee19-cac0-484d-dcb4-7d360592d7e1",
        "colab": {
          "base_uri": "https://localhost:8080/",
          "height": 51
        }
      },
      "source": [
        "from sklearn.model_selection import StratifiedShuffleSplit\n",
        "print(\"Before {}\".format(len(df2)))\n",
        "df2After = df2.dropna(subset=[\"overall\"]) # removes all NAN in reviews.rating\n",
        "print(\"After {}\".format(len(df2After)))\n",
        "df2After[\"overall\"] = df2After[\"overall\"].astype(int)"
      ],
      "execution_count": 0,
      "outputs": [
        {
          "output_type": "stream",
          "text": [
            "Before 1128437\n",
            "After 1128437\n"
          ],
          "name": "stdout"
        }
      ]
    },
    {
      "cell_type": "code",
      "metadata": {
        "id": "QGZ3QbHZ2swi",
        "colab_type": "code",
        "colab": {}
      },
      "source": [
        "split = StratifiedShuffleSplit(n_splits=5, test_size=0.2)\n",
        "for train_index, test_index in split.split(df2After, df2After[\"overall\"]): \n",
        "    strat_train = df2After.reindex(train_index)\n",
        "    strat_test = df2After.reindex(test_index)\n"
      ],
      "execution_count": 0,
      "outputs": []
    },
    {
      "cell_type": "code",
      "metadata": {
        "id": "Kcd2-C_X3jta",
        "colab_type": "code",
        "outputId": "ebda9cff-107c-4a9d-e2cb-d6db587f4f66",
        "colab": {
          "base_uri": "https://localhost:8080/",
          "height": 374
        }
      },
      "source": [
        "def sentiments(rating):\n",
        "    if (rating == 5) or (rating == 4):\n",
        "        return \"Positive\"\n",
        "    elif rating == 3:\n",
        "        return \"Neutral\"\n",
        "    elif (rating == 2) or (rating == 1):\n",
        "        return \"Negative\"\n",
        "# Add sentiments to the data\n",
        "strat_train[\"Sentiment\"] = strat_train[\"overall\"].apply(sentiments)\n",
        "strat_test[\"Sentiment\"] = strat_test[\"overall\"].apply(sentiments)\n",
        "strat_train[\"Sentiment\"][:20]"
      ],
      "execution_count": 0,
      "outputs": [
        {
          "output_type": "execute_result",
          "data": {
            "text/plain": [
              "1028917     Neutral\n",
              "734279     Positive\n",
              "1120962     Neutral\n",
              "718137     Positive\n",
              "399041     Positive\n",
              "719452     Positive\n",
              "976436     Positive\n",
              "934826      Neutral\n",
              "186972      Neutral\n",
              "1108039     Neutral\n",
              "325630     Negative\n",
              "246880     Positive\n",
              "355377     Positive\n",
              "1034050    Positive\n",
              "617208     Positive\n",
              "618146     Positive\n",
              "136039     Negative\n",
              "978507     Positive\n",
              "836466     Positive\n",
              "686983     Positive\n",
              "Name: Sentiment, dtype: object"
            ]
          },
          "metadata": {
            "tags": []
          },
          "execution_count": 12
        }
      ]
    },
    {
      "cell_type": "markdown",
      "metadata": {
        "id": "n6o2YTcHsH1j",
        "colab_type": "text"
      },
      "source": [
        "Start to train:"
      ]
    },
    {
      "cell_type": "code",
      "metadata": {
        "id": "yJkHthtisS7P",
        "colab_type": "code",
        "outputId": "d2746e32-ec5b-49a7-d947-7ec29f168be9",
        "colab": {
          "base_uri": "https://localhost:8080/",
          "height": 34
        }
      },
      "source": [
        "# Prepare data\n",
        "X_train = strat_train[\"review\"]\n",
        "X_train_targetSentiment = strat_train[\"Sentiment\"]\n",
        "X_test = strat_test[\"review\"]\n",
        "X_test_targetSentiment = strat_test[\"Sentiment\"]\n",
        "print(len(X_train), len(X_test))"
      ],
      "execution_count": 0,
      "outputs": [
        {
          "output_type": "stream",
          "text": [
            "902749 225688\n"
          ],
          "name": "stdout"
        }
      ]
    },
    {
      "cell_type": "code",
      "metadata": {
        "id": "roV5-KD14Ksm",
        "colab_type": "code",
        "outputId": "d1fde859-186a-458b-b165-7e3fce04b2a0",
        "colab": {
          "base_uri": "https://localhost:8080/",
          "height": 34
        }
      },
      "source": [
        "# Replace \"nan\" with space\n",
        "X_train = X_train.fillna(' ')\n",
        "X_test = X_test.fillna(' ')\n",
        "X_train_targetSentiment = X_train_targetSentiment.fillna(' ')\n",
        "X_test_targetSentiment = X_test_targetSentiment.fillna(' ')\n",
        "\n",
        "# Text preprocessing and occurance counting\n",
        "from sklearn.feature_extraction.text import CountVectorizer \n",
        "count_vect = CountVectorizer()\n",
        "X_train_counts = count_vect.fit_transform(X_train) \n",
        "X_train_counts.shape"
      ],
      "execution_count": 0,
      "outputs": [
        {
          "output_type": "execute_result",
          "data": {
            "text/plain": [
              "(902749, 182385)"
            ]
          },
          "metadata": {
            "tags": []
          },
          "execution_count": 14
        }
      ]
    },
    {
      "cell_type": "code",
      "metadata": {
        "id": "e7nf0UdU5jqj",
        "colab_type": "code",
        "colab": {}
      },
      "source": [
        "from sklearn.naive_bayes import MultinomialNB"
      ],
      "execution_count": 0,
      "outputs": []
    },
    {
      "cell_type": "code",
      "metadata": {
        "id": "BGnWHozW5x9O",
        "colab_type": "code",
        "outputId": "73e37ef7-0802-4a82-d2bf-43f3ff3b0bd1",
        "colab": {
          "base_uri": "https://localhost:8080/",
          "height": 34
        }
      },
      "source": [
        "from sklearn.feature_extraction.text import TfidfTransformer\n",
        "tfidf_transformer = TfidfTransformer(use_idf=False)\n",
        "X_train_tfidf = tfidf_transformer.fit_transform(X_train_counts)\n",
        "X_train_tfidf.shape\n"
      ],
      "execution_count": 0,
      "outputs": [
        {
          "output_type": "execute_result",
          "data": {
            "text/plain": [
              "(902749, 182385)"
            ]
          },
          "metadata": {
            "tags": []
          },
          "execution_count": 17
        }
      ]
    },
    {
      "cell_type": "code",
      "metadata": {
        "id": "3MLoCj-w57Es",
        "colab_type": "code",
        "outputId": "b7825619-c6ad-4465-e7f0-dc5f0dd30ebb",
        "colab": {
          "base_uri": "https://localhost:8080/",
          "height": 306
        }
      },
      "source": [
        "from sklearn.naive_bayes import MultinomialNB\n",
        "from sklearn.pipeline import Pipeline\n",
        "multiNB_pipe = Pipeline([(\"vect\", CountVectorizer()), (\"tfidf\", TfidfTransformer()), (\"clf_nominalNB\", MultinomialNB())])\n",
        "multiNB_pipe.fit(X_train, X_train_targetSentiment)"
      ],
      "execution_count": 0,
      "outputs": [
        {
          "output_type": "execute_result",
          "data": {
            "text/plain": [
              "Pipeline(memory=None,\n",
              "         steps=[('vect',\n",
              "                 CountVectorizer(analyzer='word', binary=False,\n",
              "                                 decode_error='strict',\n",
              "                                 dtype=<class 'numpy.int64'>, encoding='utf-8',\n",
              "                                 input='content', lowercase=True, max_df=1.0,\n",
              "                                 max_features=None, min_df=1,\n",
              "                                 ngram_range=(1, 1), preprocessor=None,\n",
              "                                 stop_words=None, strip_accents=None,\n",
              "                                 token_pattern='(?u)\\\\b\\\\w\\\\w+\\\\b',\n",
              "                                 tokenizer=None, vocabulary=None)),\n",
              "                ('tfidf',\n",
              "                 TfidfTransformer(norm='l2', smooth_idf=True,\n",
              "                                  sublinear_tf=False, use_idf=True)),\n",
              "                ('clf_nominalNB',\n",
              "                 MultinomialNB(alpha=1.0, class_prior=None, fit_prior=True))],\n",
              "         verbose=False)"
            ]
          },
          "metadata": {
            "tags": []
          },
          "execution_count": 18
        }
      ]
    },
    {
      "cell_type": "code",
      "metadata": {
        "id": "qQvSxEh46SL9",
        "colab_type": "code",
        "outputId": "e9736fc9-3948-493c-d419-35a8178b694d",
        "colab": {
          "base_uri": "https://localhost:8080/",
          "height": 34
        }
      },
      "source": [
        "from sklearn.metrics import accuracy_score\n",
        "import numpy as np\n",
        "predictedMultiNB = multiNB_pipe.predict(X_test)\n",
        "#np.mean(predictedMultiNB == X_test_targetSentiment)\n",
        "accuracy_score(predictedMultiNB, X_test_targetSentiment)"
      ],
      "execution_count": 0,
      "outputs": [
        {
          "output_type": "execute_result",
          "data": {
            "text/plain": [
              "0.8298358796214242"
            ]
          },
          "metadata": {
            "tags": []
          },
          "execution_count": 19
        }
      ]
    },
    {
      "cell_type": "code",
      "metadata": {
        "id": "JU9SPNZz8_U5",
        "colab_type": "code",
        "outputId": "5afde310-ecee-447b-9439-891bb82de005",
        "colab": {
          "base_uri": "https://localhost:8080/",
          "height": 170
        }
      },
      "source": [
        "from sklearn.linear_model import LogisticRegression\n",
        "from sklearn.pipeline import Pipeline\n",
        "logReg_pipe = Pipeline([(\"vect\", CountVectorizer()),(\"tfidf\", TfidfTransformer()), (\"clf_logReg\", LogisticRegression())])\n",
        "logReg_pipe.fit(X_train, X_train_targetSentiment)\n",
        "\n",
        "import numpy as np\n",
        "predictedLogReg = logReg_pipe.predict(X_test)\n",
        "#np.mean(predictedLogReg == X_test_targetSentiment)\n",
        "accuracy_score(predictedLogReg, X_test_targetSentiment)\n"
      ],
      "execution_count": 0,
      "outputs": [
        {
          "output_type": "stream",
          "text": [
            "/usr/local/lib/python3.6/dist-packages/sklearn/linear_model/_logistic.py:940: ConvergenceWarning: lbfgs failed to converge (status=1):\n",
            "STOP: TOTAL NO. of ITERATIONS REACHED LIMIT.\n",
            "\n",
            "Increase the number of iterations (max_iter) or scale the data as shown in:\n",
            "    https://scikit-learn.org/stable/modules/preprocessing.html\n",
            "Please also refer to the documentation for alternative solver options:\n",
            "    https://scikit-learn.org/stable/modules/linear_model.html#logistic-regression\n",
            "  extra_warning_msg=_LOGISTIC_SOLVER_CONVERGENCE_MSG)\n"
          ],
          "name": "stderr"
        },
        {
          "output_type": "execute_result",
          "data": {
            "text/plain": [
              "0.8965430151359399"
            ]
          },
          "metadata": {
            "tags": []
          },
          "execution_count": 20
        }
      ]
    },
    {
      "cell_type": "code",
      "metadata": {
        "id": "9reskFFDPU4U",
        "colab_type": "code",
        "outputId": "2d129803-3858-4666-955a-1aa47e26e71c",
        "colab": {
          "base_uri": "https://localhost:8080/",
          "height": 34
        }
      },
      "source": [
        "from sklearn.svm import LinearSVC\n",
        "linearSVC_pipe = Pipeline([(\"vect\", CountVectorizer()), (\"tfidf\", TfidfTransformer()), (\"clf_linearSVC\", LinearSVC())])\n",
        "linearSVC_pipe.fit(X_train, X_train_targetSentiment)\n",
        "\n",
        "predictedLinearSVC = linearSVC_pipe.predict(X_test)\n",
        "#np.mean(predictedLinearSVC == X_test_targetSentiment)\n",
        "accuracy_score(predictedLinearSVC, X_test_targetSentiment)"
      ],
      "execution_count": 0,
      "outputs": [
        {
          "output_type": "execute_result",
          "data": {
            "text/plain": [
              "0.899883910531353"
            ]
          },
          "metadata": {
            "tags": []
          },
          "execution_count": 21
        }
      ]
    },
    {
      "cell_type": "code",
      "metadata": {
        "id": "XtIyp_vsR-3w",
        "colab_type": "code",
        "outputId": "66bbedb6-5190-460d-ad5f-2771044c1151",
        "colab": {
          "base_uri": "https://localhost:8080/",
          "height": 131
        }
      },
      "source": [
        "from sklearn.model_selection import GridSearchCV\n",
        "parameters = {'vect__ngram_range': [(1, 1), (1, 2)],    \n",
        "             'tfidf__use_idf': (True, False), \n",
        "             } \n",
        "gs_LinearSVC_pipe = GridSearchCV(linearSVC_pipe, parameters, n_jobs=-1)\n",
        "gs_LinearSVC_pipe.fit(X_train, X_train_targetSentiment)\n",
        "predictedGS_LinearSVC_pipe = gs_LinearSVC_pipe.predict(X_test)\n",
        "accuracy_score(predictedGS_LinearSVC_pipe, X_test_targetSentiment)"
      ],
      "execution_count": 0,
      "outputs": [
        {
          "output_type": "stream",
          "text": [
            "/usr/local/lib/python3.6/dist-packages/joblib/externals/loky/process_executor.py:706: UserWarning: A worker stopped while some jobs were given to the executor. This can be caused by a too short worker timeout or by a memory leak.\n",
            "  \"timeout or by a memory leak.\", UserWarning\n"
          ],
          "name": "stderr"
        },
        {
          "output_type": "execute_result",
          "data": {
            "text/plain": [
              "0.9145678990464713"
            ]
          },
          "metadata": {
            "tags": []
          },
          "execution_count": 22
        }
      ]
    },
    {
      "cell_type": "code",
      "metadata": {
        "id": "0x-W5BG_xYdb",
        "colab_type": "code",
        "outputId": "810f43ce-1e09-472b-d8ed-2bce7a04ffed",
        "colab": {
          "base_uri": "https://localhost:8080/",
          "height": 34
        }
      },
      "source": [
        "gs_LinearSVC_pipe.best_params_"
      ],
      "execution_count": 0,
      "outputs": [
        {
          "output_type": "execute_result",
          "data": {
            "text/plain": [
              "{'tfidf__use_idf': True, 'vect__ngram_range': (1, 2)}"
            ]
          },
          "metadata": {
            "tags": []
          },
          "execution_count": 23
        }
      ]
    }
  ]
}